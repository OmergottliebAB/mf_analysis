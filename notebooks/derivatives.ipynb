{
 "cells": [
  {
   "cell_type": "markdown",
   "id": "a1498aaa-9496-4423-bdf8-cb101941bf1d",
   "metadata": {},
   "source": [
    "The following notebook is a perlimanry development of time series analysis using derivatives, especially for kinematics values"
   ]
  },
  {
   "cell_type": "markdown",
   "id": "3b9c0c4d",
   "metadata": {},
   "source": [
    "### Imports"
   ]
  },
  {
   "cell_type": "code",
   "execution_count": null,
   "id": "d638d5db",
   "metadata": {},
   "outputs": [],
   "source": [
    "import pandas as pd\n",
    "import numpy as np\n",
    "import matplotlib.pyplot as plt\n",
    "import sys"
   ]
  },
  {
   "cell_type": "code",
   "execution_count": null,
   "id": "1284aa7e-eb78-474f-a0ff-b236b1dff927",
   "metadata": {},
   "outputs": [],
   "source": [
    "sys.path.append('/home/omerg/git/mf_analysis')\n",
    "sys.path.append('/home/omerg/git/mf_analysis/src/multiframe')"
   ]
  },
  {
   "cell_type": "code",
   "execution_count": null,
   "id": "48849b92-6ca9-477b-bca8-8fb4a168238c",
   "metadata": {},
   "outputs": [],
   "source": [
    "from mf_analyzer import MFAnalyzer"
   ]
  },
  {
   "cell_type": "markdown",
   "id": "7bfab717",
   "metadata": {},
   "source": [
    "### Functions"
   ]
  },
  {
   "cell_type": "code",
   "execution_count": null,
   "id": "eb174f96",
   "metadata": {},
   "outputs": [],
   "source": [
    "def plot_derivatives(age, x, title, unit):\n",
    "    first_derivative = np.diff(x, n=1)\n",
    "    avg1, std1 = np.mean(first_derivative), np.std(first_derivative)\n",
    "    second_derivative = np.diff(x, n=2)\n",
    "    avg2, std2 = np.mean(second_derivative), np.std(second_derivative)\n",
    "    fig, ax = plt.subplots(3, 1, figsize=(12,8))\n",
    "    ax[0].plot(age, x, '--bo', label=f'{title}')\n",
    "    ax[0].set_xlabel('age')\n",
    "    ax[0].set_ylabel(unit)\n",
    "    ax[0].legend()\n",
    "    ax[0].grid()\n",
    "    ax[0].set_xticks(age)\n",
    "    \n",
    "    ax[1].plot(age[1:], first_derivative, '--co', label='first derivative')\n",
    "    ax[1].plot(age[1:], np.full(len(age[1:]), avg1), label='mean', color='green')\n",
    "    ax[1].plot(age[1:], np.full(len(age[1:]), 2*std1 + avg1), label=f'2*std',color='red', linestyle='dashed')\n",
    "    ax[1].plot(age[1:], np.full(len(age[1:]), -2*std1 + avg1), label=f'2*std',color='red', linestyle='dashed')\n",
    "    ax[1].plot(age[1:], np.full(len(age[1:]), 3*std1 + avg1), label=f'3*std',color='red', linestyle='dashdot')\n",
    "    ax[1].plot(age[1:], np.full(len(age[1:]), -3*std1 + avg1), label=f'3*std',color='red', linestyle='dashdot')\n",
    "    ax[1].set_xlabel('age')\n",
    "    ax[1].legend()\n",
    "    ax[1].grid()\n",
    "    ax[1].set_xticks(age)\n",
    "    \n",
    "    ax[2].plot(age[2:], second_derivative, '--mo', label=f'second derivative')\n",
    "    ax[2].plot(age[2:], np.full(len(age[2:]), avg2), label='mean', color='green')\n",
    "    ax[2].plot(age[2:], np.full(len(age[2:]), 2*std2 + avg2), label=f'2*std',color='red', linestyle='dashed')\n",
    "    ax[2].plot(age[2:], np.full(len(age[2:]), -2*std2 + avg2), label=f'2*std',color='red', linestyle='dashed')\n",
    "    ax[2].plot(age[2:], np.full(len(age[2:]), 3*std2 + avg2), label=f'3*std',color='red', linestyle='dashdot')\n",
    "    ax[2].plot(age[2:], np.full(len(age[2:]), -3*std2 + avg2), label=f'3*std',color='red', linestyle='dashdot')\n",
    "    ax[2].set_xlabel('age')\n",
    "    ax[2].legend()\n",
    "    ax[2].grid()\n",
    "    ax[2].set_xticks(age)\n",
    "    plt.tight_layout()\n",
    "    plt.show()"
   ]
  },
  {
   "cell_type": "markdown",
   "id": "79a05c79-1a69-40d4-99a7-c3b8ede563a8",
   "metadata": {},
   "source": [
    "### Inputs"
   ]
  },
  {
   "cell_type": "code",
   "execution_count": null,
   "id": "2cb603d6-6321-4976-a424-034b9b60f315",
   "metadata": {},
   "outputs": [],
   "source": [
    "path = '/home/ubuntu/workspace/Omer/mf_analysis/stanch_las_cruces_10_fps__test/cametra_interface_output.tsv'\n",
    "output_dir = '/home/omerg/workspace/mf_analysis/stanch_las_cruces_10_fps__test'"
   ]
  },
  {
   "cell_type": "code",
   "execution_count": null,
   "id": "02128646-93e8-4f2b-a0cd-a44a3119cdbd",
   "metadata": {},
   "outputs": [],
   "source": [
    "mfa = MFAnalyzer(path, output_dir=output_dir)"
   ]
  },
  {
   "cell_type": "code",
   "execution_count": null,
   "id": "2463011a-cc2e-4e13-8bbf-102752ca58c0",
   "metadata": {},
   "outputs": [],
   "source": [
    "ped_tracklets = mfa.get_tracklets_by_label(0)"
   ]
  },
  {
   "cell_type": "code",
   "execution_count": null,
   "id": "19ea0646-d4eb-4309-b8ab-baba3be14a65",
   "metadata": {},
   "outputs": [],
   "source": [
    "for tracklet in ped_tracklets:\n",
    "    if tracklet.age > 10:\n",
    "        print(f'{tracklet.label} with uid:{tracklet.uid}')\n",
    "        plot_derivatives(tracklet.df['age'].to_numpy(), tracklet.lat_dist, 'lat_dist', 'm')\n",
    "        plot_derivatives(tracklet.df['age'].to_numpy(), tracklet.abs_vel_x, 'lat vel', 'm/s')\n",
    "        \n",
    "        plot_derivatives(tracklet.df['age'].to_numpy(), tracklet.long_dist, 'long_dist', 'm')\n",
    "        plot_derivatives(tracklet.df['age'].to_numpy(), tracklet.abs_vel_z, 'longi vel', 'm/s')\n",
    "    "
   ]
  },
  {
   "cell_type": "code",
   "execution_count": null,
   "id": "d2bd5a25",
   "metadata": {},
   "outputs": [],
   "source": [
    "vehicle_tracklets = mfa.get_tracklets_by_label(2)"
   ]
  },
  {
   "cell_type": "code",
   "execution_count": null,
   "id": "7c330fe1",
   "metadata": {},
   "outputs": [],
   "source": [
    "for tracklet in vehicle_tracklets:\n",
    "    if tracklet.age > 10:\n",
    "        print(f'{tracklet.label} with uid:{tracklet.uid}')\n",
    "        plot_derivatives(tracklet.df['age'].to_numpy(), tracklet.lat_dist, 'lat_dist', 'm')\n",
    "        plot_derivatives(tracklet.df['age'].to_numpy(), tracklet.abs_vel_x, 'lat vel', 'm/s')\n",
    "        \n",
    "        plot_derivatives(tracklet.df['age'].to_numpy(), tracklet.long_dist, 'long_dist', 'm')\n",
    "        plot_derivatives(tracklet.df['age'].to_numpy(), tracklet.abs_vel_z, 'longi vel', 'm/s')"
   ]
  }
 ],
 "metadata": {
  "kernelspec": {
   "display_name": "Python 3 (ipykernel)",
   "language": "python",
   "name": "python3"
  },
  "language_info": {
   "codemirror_mode": {
    "name": "ipython",
    "version": 3
   },
   "file_extension": ".py",
   "mimetype": "text/x-python",
   "name": "python",
   "nbconvert_exporter": "python",
   "pygments_lexer": "ipython3",
   "version": "3.8.10"
  }
 },
 "nbformat": 4,
 "nbformat_minor": 5
}
