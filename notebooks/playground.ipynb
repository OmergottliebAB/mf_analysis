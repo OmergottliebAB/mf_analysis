{
 "cells": [
  {
   "cell_type": "code",
   "execution_count": 19,
   "id": "a1498aaa-9496-4423-bdf8-cb101941bf1d",
   "metadata": {},
   "outputs": [],
   "source": [
    "import pandas as pd\n",
    "import numpy as np\n",
    "import matplotlib.pyplot as plt\n",
    "import sys"
   ]
  },
  {
   "cell_type": "code",
   "execution_count": 2,
   "id": "1284aa7e-eb78-474f-a0ff-b236b1dff927",
   "metadata": {},
   "outputs": [],
   "source": [
    "sys.path.append('/home/omer/git/autobrains/mf_analysis')\n",
    "sys.path.append('/home/omer/git/autobrains/mf_analysis/src/multiframe')"
   ]
  },
  {
   "cell_type": "code",
   "execution_count": 3,
   "id": "48849b92-6ca9-477b-bca8-8fb4a168238c",
   "metadata": {},
   "outputs": [],
   "source": [
    "from mf_analyzer import MFAnalyzer"
   ]
  },
  {
   "cell_type": "markdown",
   "id": "79a05c79-1a69-40d4-99a7-c3b8ede563a8",
   "metadata": {},
   "source": [
    "### Inputs"
   ]
  },
  {
   "cell_type": "code",
   "execution_count": 4,
   "id": "2cb603d6-6321-4976-a424-034b9b60f315",
   "metadata": {},
   "outputs": [],
   "source": [
    "path = '/home/omer/B2B/multiframe/unsupervised_analysis/stanch_las_cruces_10_fps__test/cametra_interface_output.tsv'"
   ]
  },
  {
   "cell_type": "code",
   "execution_count": 7,
   "id": "02128646-93e8-4f2b-a0cd-a44a3119cdbd",
   "metadata": {},
   "outputs": [
    {
     "name": "stderr",
     "output_type": "stream",
     "text": [
      "100%|██████████████████████████████████████████| 11/11 [00:00<00:00, 848.44it/s]\n",
      "100%|███████████████████████████████████████████| 4/4 [00:00<00:00, 1005.23it/s]\n",
      "100%|█████████████████████████████████████████| 47/47 [00:00<00:00, 1015.98it/s]\n"
     ]
    }
   ],
   "source": [
    "mfa = MFAnalyzer(path)"
   ]
  },
  {
   "cell_type": "code",
   "execution_count": 8,
   "id": "2463011a-cc2e-4e13-8bbf-102752ca58c0",
   "metadata": {},
   "outputs": [],
   "source": [
    "tracklet = mfa.longest_tracklet_by_label(2)"
   ]
  },
  {
   "cell_type": "code",
   "execution_count": 10,
   "id": "19ea0646-d4eb-4309-b8ab-baba3be14a65",
   "metadata": {},
   "outputs": [
    {
     "data": {
      "text/plain": [
       "83"
      ]
     },
     "execution_count": 10,
     "metadata": {},
     "output_type": "execute_result"
    }
   ],
   "source": [
    "tracklet.uid"
   ]
  },
  {
   "cell_type": "code",
   "execution_count": 11,
   "id": "7a08dcd4-c413-4524-9b11-46d99bf3fa24",
   "metadata": {},
   "outputs": [],
   "source": [
    "x1 = tracklet.long_dist"
   ]
  },
  {
   "cell_type": "code",
   "execution_count": 13,
   "id": "4a051a6f-5e3a-480b-abf4-43fbe44444f6",
   "metadata": {},
   "outputs": [],
   "source": [
    "x1_tag = np.diff(x1, n=1)"
   ]
  },
  {
   "cell_type": "code",
   "execution_count": 14,
   "id": "95a9f343-3dd6-4c6c-a91d-fa780c6d87e6",
   "metadata": {},
   "outputs": [],
   "source": [
    "x1_2tag = np.diff(x1_tag, n=1)"
   ]
  },
  {
   "cell_type": "code",
   "execution_count": 17,
   "id": "65437b73-34fb-4849-b0cf-a5e0386c92ee",
   "metadata": {},
   "outputs": [],
   "source": [
    "a1 = tracklet.abs_acc_z"
   ]
  },
  {
   "cell_type": "code",
   "execution_count": 41,
   "id": "04f496d8-60a0-4fef-82f7-1bc9c1c25ade",
   "metadata": {},
   "outputs": [
    {
     "data": {
      "image/png": "[encoded data removed]",
      "text/plain": [
       "<Figure size 432x288 with 1 Axes>"
      ]
     },
     "metadata": {
      "needs_background": "light"
     },
     "output_type": "display_data"
    }
   ],
   "source": [
    "fig, ax = plt.subplots(1, 1)\n",
    "ax.plot(a1,label='abs_acc_z')\n",
    "ax.plot(x1_tag, label='second derivative of longitudinal dist')\n",
    "ax.legend()\n",
    "ax.grid()\n",
    "plt.show()"
   ]
  },
  {
   "cell_type": "code",
   "execution_count": 24,
   "id": "a1e25b2e-4af9-4c07-9eff-42d6e204f3e6",
   "metadata": {},
   "outputs": [],
   "source": [
    "def square(x):\n",
    "    return x**2"
   ]
  },
  {
   "cell_type": "code",
   "execution_count": 35,
   "id": "8288d38c-95da-4230-bcd9-e4c2f9be8706",
   "metadata": {},
   "outputs": [],
   "source": [
    "x = tracklet.df['age'].to_numpy()"
   ]
  },
  {
   "cell_type": "code",
   "execution_count": 25,
   "id": "cfa5f235-5f19-432f-b800-94bc9a94fa9d",
   "metadata": {},
   "outputs": [],
   "source": [
    "from scipy import integrate"
   ]
  },
  {
   "cell_type": "code",
   "execution_count": 26,
   "id": "5562bd1e-f278-4565-9f9b-f4c0b80d71d8",
   "metadata": {},
   "outputs": [],
   "source": [
    "y1 = square(x1_2tag)"
   ]
  },
  {
   "cell_type": "code",
   "execution_count": 37,
   "id": "c362ea1e-6cfd-49e5-a820-60f84386f959",
   "metadata": {},
   "outputs": [
    {
     "data": {
      "text/plain": [
       "17603.284411111108"
      ]
     },
     "execution_count": 37,
     "metadata": {},
     "output_type": "execute_result"
    }
   ],
   "source": [
    "l = integrate.simpson(y1, x[2:])\n",
    "l"
   ]
  },
  {
   "cell_type": "code",
   "execution_count": 38,
   "id": "f2ad9c96-3805-4fe2-97d1-da5a57cb509f",
   "metadata": {},
   "outputs": [
    {
     "data": {
      "text/plain": [
       "17746.91765"
      ]
     },
     "execution_count": 38,
     "metadata": {},
     "output_type": "execute_result"
    }
   ],
   "source": [
    "np.trapz(y1, x[2:])"
   ]
  },
  {
   "cell_type": "code",
   "execution_count": null,
   "id": "2ef53cf8-27a9-468a-a69b-a4d3a56b5d8f",
   "metadata": {},
   "outputs": [],
   "source": []
  }
 ],
 "metadata": {
  "kernelspec": {
   "display_name": "Python 3 (ipykernel)",
   "language": "python",
   "name": "python3"
  },
  "language_info": {
   "codemirror_mode": {
    "name": "ipython",
    "version": 3
   },
   "file_extension": ".py",
   "mimetype": "text/x-python",
   "name": "python",
   "nbconvert_exporter": "python",
   "pygments_lexer": "ipython3",
   "version": "3.8.16"
  }
 },
 "nbformat": 4,
 "nbformat_minor": 5
}
